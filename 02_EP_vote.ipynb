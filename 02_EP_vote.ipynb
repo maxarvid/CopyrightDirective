{
 "cells": [
  {
   "cell_type": "code",
   "execution_count": 1,
   "metadata": {},
   "outputs": [],
   "source": [
    "import pandas as pd\n",
    "\n",
    "%matplotlib inline\n",
    "pd.set_option('max_colwidth', -1)"
   ]
  },
  {
   "cell_type": "code",
   "execution_count": 2,
   "metadata": {},
   "outputs": [],
   "source": [
    "df = pd.read_excel('EP-2019-Plenary-Vote-Outcome.xlsx', sheet_name='Overview MEPs')"
   ]
  },
  {
   "cell_type": "code",
   "execution_count": 3,
   "metadata": {},
   "outputs": [
    {
     "data": {
      "text/plain": [
       "(750, 18)"
      ]
     },
     "execution_count": 3,
     "metadata": {},
     "output_type": "execute_result"
    }
   ],
   "source": [
    "df.shape"
   ]
  },
  {
   "cell_type": "code",
   "execution_count": 4,
   "metadata": {},
   "outputs": [
    {
     "data": {
      "text/html": [
       "<div>\n",
       "<style scoped>\n",
       "    .dataframe tbody tr th:only-of-type {\n",
       "        vertical-align: middle;\n",
       "    }\n",
       "\n",
       "    .dataframe tbody tr th {\n",
       "        vertical-align: top;\n",
       "    }\n",
       "\n",
       "    .dataframe thead th {\n",
       "        text-align: right;\n",
       "    }\n",
       "</style>\n",
       "<table border=\"1\" class=\"dataframe\">\n",
       "  <thead>\n",
       "    <tr style=\"text-align: right;\">\n",
       "      <th></th>\n",
       "      <th>First Name</th>\n",
       "      <th>Last Name</th>\n",
       "      <th>Country</th>\n",
       "      <th>Jurisdiction</th>\n",
       "      <th>Political Group</th>\n",
       "      <th>26 March 2019\n",
       "Final Vote</th>\n",
       "      <th>26 March 2019\n",
       "Procedural Vote</th>\n",
       "      <th>Pledge\n",
       "2019</th>\n",
       "      <th>Sept 18 Vote\n",
       "DELETE</th>\n",
       "      <th>Sept 18 Vote\n",
       "IMCO</th>\n",
       "      <th>Sept 18 Vote\n",
       "VOSS</th>\n",
       "      <th>Sept 18 Vote\n",
       "REPORT</th>\n",
       "      <th>June 18 Vote\n",
       "Negotiations</th>\n",
       "      <th>National Political Group</th>\n",
       "      <th>National Political Group (Short)</th>\n",
       "      <th>Email</th>\n",
       "      <th>Twitter</th>\n",
       "      <th>EP Webpage</th>\n",
       "    </tr>\n",
       "  </thead>\n",
       "  <tbody>\n",
       "    <tr>\n",
       "      <th>0</th>\n",
       "      <td>Heinz K.</td>\n",
       "      <td>Becker</td>\n",
       "      <td>Austria</td>\n",
       "      <td>-</td>\n",
       "      <td>EPP</td>\n",
       "      <td>FOR</td>\n",
       "      <td>AGAINST</td>\n",
       "      <td>-</td>\n",
       "      <td>AGAINST</td>\n",
       "      <td>AGAINST</td>\n",
       "      <td>FOR</td>\n",
       "      <td>FOR</td>\n",
       "      <td>FOR</td>\n",
       "      <td>Österreichische Volkspartei</td>\n",
       "      <td>ÖVP</td>\n",
       "      <td>heinzk.becker@europarl.europa.eu</td>\n",
       "      <td>NaN</td>\n",
       "      <td>http://www.europarl.europa.eu/meps/en/107041/_home.html</td>\n",
       "    </tr>\n",
       "    <tr>\n",
       "      <th>1</th>\n",
       "      <td>Eugen</td>\n",
       "      <td>Freund</td>\n",
       "      <td>Austria</td>\n",
       "      <td>-</td>\n",
       "      <td>S&amp;D</td>\n",
       "      <td>AGAINST</td>\n",
       "      <td>FOR</td>\n",
       "      <td>YES</td>\n",
       "      <td>AGAINST</td>\n",
       "      <td>FOR</td>\n",
       "      <td>AGAINST</td>\n",
       "      <td>FOR</td>\n",
       "      <td>AGAINST</td>\n",
       "      <td>Sozialdemokratische Partei Österreichs</td>\n",
       "      <td>SPÖ</td>\n",
       "      <td>eugen.freund@europarl.europa.eu</td>\n",
       "      <td>EugenAFreund</td>\n",
       "      <td>http://www.europarl.europa.eu/meps/en/125018/_home.html</td>\n",
       "    </tr>\n",
       "    <tr>\n",
       "      <th>2</th>\n",
       "      <td>Karoline</td>\n",
       "      <td>Graswander-Hainz</td>\n",
       "      <td>Austria</td>\n",
       "      <td>-</td>\n",
       "      <td>S&amp;D</td>\n",
       "      <td>AGAINST</td>\n",
       "      <td>FOR</td>\n",
       "      <td>YES</td>\n",
       "      <td>AGAINST</td>\n",
       "      <td>FOR</td>\n",
       "      <td>AGAINST</td>\n",
       "      <td>FOR</td>\n",
       "      <td>AGAINST</td>\n",
       "      <td>Sozialdemokratische Partei Österreichs</td>\n",
       "      <td>SPÖ</td>\n",
       "      <td>karoline.graswander-hainz@europarl.europa.eu</td>\n",
       "      <td>graswanderhainz</td>\n",
       "      <td>http://www.europarl.europa.eu/meps/en/133316/_home.html</td>\n",
       "    </tr>\n",
       "    <tr>\n",
       "      <th>3</th>\n",
       "      <td>Karin</td>\n",
       "      <td>Kadenbach</td>\n",
       "      <td>Austria</td>\n",
       "      <td>-</td>\n",
       "      <td>S&amp;D</td>\n",
       "      <td>NOT PRESENT</td>\n",
       "      <td>NOT PRESENT</td>\n",
       "      <td>YES</td>\n",
       "      <td>AGAINST</td>\n",
       "      <td>FOR</td>\n",
       "      <td>AGAINST</td>\n",
       "      <td>FOR</td>\n",
       "      <td>AGAINST</td>\n",
       "      <td>Sozialdemokratische Partei Österreichs</td>\n",
       "      <td>SPÖ</td>\n",
       "      <td>karin.kadenbach@europarl.europa.eu</td>\n",
       "      <td>karinkadenbach</td>\n",
       "      <td>http://www.europarl.europa.eu/meps/en/97014/_home.html</td>\n",
       "    </tr>\n",
       "    <tr>\n",
       "      <th>4</th>\n",
       "      <td>Barbara</td>\n",
       "      <td>Kappel</td>\n",
       "      <td>Austria</td>\n",
       "      <td>-</td>\n",
       "      <td>ENF</td>\n",
       "      <td>NOT PRESENT</td>\n",
       "      <td>NOT PRESENT</td>\n",
       "      <td>-</td>\n",
       "      <td>FOR</td>\n",
       "      <td>ABSTAINED</td>\n",
       "      <td>AGAINST</td>\n",
       "      <td>ABSTAINED</td>\n",
       "      <td>ABSTAINED</td>\n",
       "      <td>Freiheitliche Partei Österreichs</td>\n",
       "      <td>FPÖ</td>\n",
       "      <td>barbara.kappel@europarl.europa.eu</td>\n",
       "      <td>b_kappel</td>\n",
       "      <td>http://www.europarl.europa.eu/meps/en/125024/_home.html</td>\n",
       "    </tr>\n",
       "  </tbody>\n",
       "</table>\n",
       "</div>"
      ],
      "text/plain": [
       "  First Name         Last Name  Country Jurisdiction Political Group  \\\n",
       "0  Heinz K.   Becker            Austria  -            EPP              \n",
       "1  Eugen      Freund            Austria  -            S&D              \n",
       "2  Karoline   Graswander-Hainz  Austria  -            S&D              \n",
       "3  Karin      Kadenbach         Austria  -            S&D              \n",
       "4  Barbara    Kappel            Austria  -            ENF              \n",
       "\n",
       "  26 March 2019\\nFinal Vote 26 March 2019\\nProcedural Vote Pledge\\n2019  \\\n",
       "0  FOR                       AGAINST                        -             \n",
       "1  AGAINST                   FOR                            YES           \n",
       "2  AGAINST                   FOR                            YES           \n",
       "3  NOT PRESENT               NOT PRESENT                    YES           \n",
       "4  NOT PRESENT               NOT PRESENT                    -             \n",
       "\n",
       "  Sept 18 Vote\\nDELETE Sept 18 Vote\\nIMCO Sept 18 Vote\\nVOSS  \\\n",
       "0  AGAINST              AGAINST            FOR                 \n",
       "1  AGAINST              FOR                AGAINST             \n",
       "2  AGAINST              FOR                AGAINST             \n",
       "3  AGAINST              FOR                AGAINST             \n",
       "4  FOR                  ABSTAINED          AGAINST             \n",
       "\n",
       "  Sept 18 Vote\\nREPORT June 18 Vote\\nNegotiations  \\\n",
       "0  FOR                  FOR                         \n",
       "1  FOR                  AGAINST                     \n",
       "2  FOR                  AGAINST                     \n",
       "3  FOR                  AGAINST                     \n",
       "4  ABSTAINED            ABSTAINED                   \n",
       "\n",
       "                 National Political Group National Political Group (Short)  \\\n",
       "0  Österreichische Volkspartei             ÖVP                               \n",
       "1  Sozialdemokratische Partei Österreichs  SPÖ                               \n",
       "2  Sozialdemokratische Partei Österreichs  SPÖ                               \n",
       "3  Sozialdemokratische Partei Österreichs  SPÖ                               \n",
       "4  Freiheitliche Partei Österreichs        FPÖ                               \n",
       "\n",
       "                                          Email          Twitter  \\\n",
       "0  heinzk.becker@europarl.europa.eu              NaN               \n",
       "1  eugen.freund@europarl.europa.eu               EugenAFreund      \n",
       "2  karoline.graswander-hainz@europarl.europa.eu  graswanderhainz   \n",
       "3  karin.kadenbach@europarl.europa.eu            karinkadenbach    \n",
       "4  barbara.kappel@europarl.europa.eu             b_kappel          \n",
       "\n",
       "                                                EP Webpage  \n",
       "0  http://www.europarl.europa.eu/meps/en/107041/_home.html  \n",
       "1  http://www.europarl.europa.eu/meps/en/125018/_home.html  \n",
       "2  http://www.europarl.europa.eu/meps/en/133316/_home.html  \n",
       "3  http://www.europarl.europa.eu/meps/en/97014/_home.html   \n",
       "4  http://www.europarl.europa.eu/meps/en/125024/_home.html  "
      ]
     },
     "execution_count": 4,
     "metadata": {},
     "output_type": "execute_result"
    }
   ],
   "source": [
    "df.head()"
   ]
  },
  {
   "cell_type": "code",
   "execution_count": 5,
   "metadata": {},
   "outputs": [],
   "source": [
    "df.to_csv('parliament_vote.csv', index=False)"
   ]
  },
  {
   "cell_type": "code",
   "execution_count": 6,
   "metadata": {},
   "outputs": [
    {
     "data": {
      "text/plain": [
       "EPP             217\n",
       "S&D             187\n",
       "ECR             75 \n",
       "ALDE            68 \n",
       "GUE/NGL         52 \n",
       "Greens/EFA      52 \n",
       "EFDD            41 \n",
       "ENF             36 \n",
       "Non-attached    22 \n",
       "Name: Political Group, dtype: int64"
      ]
     },
     "execution_count": 6,
     "metadata": {},
     "output_type": "execute_result"
    }
   ],
   "source": [
    "df['Political Group'].value_counts()"
   ]
  },
  {
   "cell_type": "code",
   "execution_count": 7,
   "metadata": {},
   "outputs": [
    {
     "data": {
      "text/plain": [
       "Index(['First Name', 'Last Name', 'Country', 'Jurisdiction', 'Political Group',\n",
       "       '26 March 2019\\nFinal Vote', '26 March 2019\\nProcedural Vote',\n",
       "       'Pledge\\n2019', 'Sept 18 Vote\\nDELETE', 'Sept 18 Vote\\nIMCO',\n",
       "       'Sept 18 Vote\\nVOSS', 'Sept 18 Vote\\nREPORT',\n",
       "       'June 18 Vote\\nNegotiations', 'National Political Group',\n",
       "       'National Political Group (Short)', 'Email', 'Twitter', 'EP Webpage'],\n",
       "      dtype='object')"
      ]
     },
     "execution_count": 7,
     "metadata": {},
     "output_type": "execute_result"
    }
   ],
   "source": [
    "df.keys()"
   ]
  },
  {
   "cell_type": "code",
   "execution_count": 8,
   "metadata": {},
   "outputs": [
    {
     "data": {
      "text/plain": [
       "FOR                      334\n",
       "AGAINST                  269\n",
       "NOT PRESENT              93 \n",
       "ABSTAINED                35 \n",
       "AGAINST - CORRECTED      14 \n",
       "FOR - CORRECTED          4  \n",
       "ABSTAINED - CORRECTED    1  \n",
       "Name: 26 March 2019\\nFinal Vote, dtype: int64"
      ]
     },
     "execution_count": 8,
     "metadata": {},
     "output_type": "execute_result"
    }
   ],
   "source": [
    "df['26 March 2019\\nFinal Vote'].value_counts()"
   ]
  },
  {
   "cell_type": "code",
   "execution_count": 9,
   "metadata": {},
   "outputs": [
    {
     "data": {
      "text/plain": [
       "Political Group  26 March 2019\\nFinal Vote\n",
       "ALDE             FOR                          35 \n",
       "                 AGAINST                      24 \n",
       "                 NOT PRESENT                  4  \n",
       "                 ABSTAINED                    3  \n",
       "                 AGAINST - CORRECTED          2  \n",
       "ECR              AGAINST                      42 \n",
       "                 FOR                          23 \n",
       "                 NOT PRESENT                  8  \n",
       "                 ABSTAINED                    2  \n",
       "EFDD             AGAINST                      28 \n",
       "                 FOR                          6  \n",
       "                 NOT PRESENT                  6  \n",
       "                 ABSTAINED                    1  \n",
       "ENF              FOR                          15 \n",
       "                 AGAINST                      14 \n",
       "                 NOT PRESENT                  4  \n",
       "                 ABSTAINED                    3  \n",
       "EPP              FOR                          149\n",
       "                 AGAINST                      24 \n",
       "                 NOT PRESENT                  24 \n",
       "                 ABSTAINED                    12 \n",
       "                 AGAINST - CORRECTED          4  \n",
       "                 FOR - CORRECTED              4  \n",
       "GUE/NGL          AGAINST                      36 \n",
       "                 NOT PRESENT                  8  \n",
       "                 FOR                          5  \n",
       "                 ABSTAINED                    3  \n",
       "Greens/EFA       AGAINST                      39 \n",
       "                 NOT PRESENT                  5  \n",
       "                 ABSTAINED                    4  \n",
       "                 FOR                          4  \n",
       "Non-attached     AGAINST                      8  \n",
       "                 NOT PRESENT                  6  \n",
       "                 FOR                          5  \n",
       "                 ABSTAINED                    1  \n",
       "                 ABSTAINED - CORRECTED        1  \n",
       "                 AGAINST - CORRECTED          1  \n",
       "S&D              FOR                          92 \n",
       "                 AGAINST                      54 \n",
       "                 NOT PRESENT                  28 \n",
       "                 AGAINST - CORRECTED          7  \n",
       "                 ABSTAINED                    6  \n",
       "Name: 26 March 2019\\nFinal Vote, dtype: int64"
      ]
     },
     "execution_count": 9,
     "metadata": {},
     "output_type": "execute_result"
    }
   ],
   "source": [
    "df.groupby('Political Group')['26 March 2019\\nFinal Vote'].value_counts()"
   ]
  },
  {
   "cell_type": "code",
   "execution_count": 10,
   "metadata": {},
   "outputs": [
    {
     "data": {
      "text/plain": [
       "26 March 2019\\nFinal Vote  Political Group\n",
       "ABSTAINED                  EPP                12 \n",
       "                           S&D                6  \n",
       "                           Greens/EFA         4  \n",
       "                           ALDE               3  \n",
       "                           ENF                3  \n",
       "                           GUE/NGL            3  \n",
       "                           ECR                2  \n",
       "                           EFDD               1  \n",
       "                           Non-attached       1  \n",
       "ABSTAINED - CORRECTED      Non-attached       1  \n",
       "AGAINST                    S&D                54 \n",
       "                           ECR                42 \n",
       "                           Greens/EFA         39 \n",
       "                           GUE/NGL            36 \n",
       "                           EFDD               28 \n",
       "                           ALDE               24 \n",
       "                           EPP                24 \n",
       "                           ENF                14 \n",
       "                           Non-attached       8  \n",
       "AGAINST - CORRECTED        S&D                7  \n",
       "                           EPP                4  \n",
       "                           ALDE               2  \n",
       "                           Non-attached       1  \n",
       "FOR                        EPP                149\n",
       "                           S&D                92 \n",
       "                           ALDE               35 \n",
       "                           ECR                23 \n",
       "                           ENF                15 \n",
       "                           EFDD               6  \n",
       "                           GUE/NGL            5  \n",
       "                           Non-attached       5  \n",
       "                           Greens/EFA         4  \n",
       "FOR - CORRECTED            EPP                4  \n",
       "NOT PRESENT                S&D                28 \n",
       "                           EPP                24 \n",
       "                           ECR                8  \n",
       "                           GUE/NGL            8  \n",
       "                           EFDD               6  \n",
       "                           Non-attached       6  \n",
       "                           Greens/EFA         5  \n",
       "                           ALDE               4  \n",
       "                           ENF                4  \n",
       "Name: Political Group, dtype: int64"
      ]
     },
     "execution_count": 10,
     "metadata": {},
     "output_type": "execute_result"
    }
   ],
   "source": [
    "df.groupby('26 March 2019\\nFinal Vote')['Political Group'].value_counts()"
   ]
  },
  {
   "cell_type": "code",
   "execution_count": 11,
   "metadata": {},
   "outputs": [
    {
     "data": {
      "text/plain": [
       "<matplotlib.axes._subplots.AxesSubplot at 0x1143cc550>"
      ]
     },
     "execution_count": 11,
     "metadata": {},
     "output_type": "execute_result"
    },
    {
     "data": {
      "image/png": "[encoded data removed]",
      "text/plain": [
       "<Figure size 432x288 with 1 Axes>"
      ]
     },
     "metadata": {},
     "output_type": "display_data"
    }
   ],
   "source": [
    "df['26 March 2019\\nFinal Vote'].value_counts().plot.barh()"
   ]
  },
  {
   "cell_type": "code",
   "execution_count": 12,
   "metadata": {},
   "outputs": [
    {
     "data": {
      "text/plain": [
       "<matplotlib.axes._subplots.AxesSubplot at 0x114499f28>"
      ]
     },
     "execution_count": 12,
     "metadata": {},
     "output_type": "execute_result"
    },
    {
     "data": {
      "image/png": "[encoded data removed]",
      "text/plain": [
       "<Figure size 432x288 with 1 Axes>"
      ]
     },
     "metadata": {},
     "output_type": "display_data"
    }
   ],
   "source": [
    "df.groupby('Political Group')['26 March 2019\\nFinal Vote'].value_counts().plot.barh()"
   ]
  },
  {
   "cell_type": "code",
   "execution_count": 13,
   "metadata": {},
   "outputs": [
    {
     "data": {
      "text/plain": [
       "Index(['First Name', 'Last Name', 'Country', 'Jurisdiction', 'Political Group',\n",
       "       '26 March 2019\\nFinal Vote', '26 March 2019\\nProcedural Vote',\n",
       "       'Pledge\\n2019', 'Sept 18 Vote\\nDELETE', 'Sept 18 Vote\\nIMCO',\n",
       "       'Sept 18 Vote\\nVOSS', 'Sept 18 Vote\\nREPORT',\n",
       "       'June 18 Vote\\nNegotiations', 'National Political Group',\n",
       "       'National Political Group (Short)', 'Email', 'Twitter', 'EP Webpage'],\n",
       "      dtype='object')"
      ]
     },
     "execution_count": 13,
     "metadata": {},
     "output_type": "execute_result"
    }
   ],
   "source": [
    "df.keys()"
   ]
  },
  {
   "cell_type": "code",
   "execution_count": 22,
   "metadata": {
    "scrolled": true
   },
   "outputs": [
    {
     "data": {
      "text/plain": [
       "26 March 2019\\nFinal Vote  Country       \n",
       "ABSTAINED                  Romania           6 \n",
       "                           Czech Republic    5 \n",
       "                           Bulgaria          4 \n",
       "                           France            4 \n",
       "                           Austria           3 \n",
       "                           Germany           3 \n",
       "                           Netherlands       2 \n",
       "                           Poland            2 \n",
       "                           Croatia           1 \n",
       "                           Estonia           1 \n",
       "                           Greece            1 \n",
       "                           Italy             1 \n",
       "                           Slovakia          1 \n",
       "                           Spain             1 \n",
       "ABSTAINED - CORRECTED      Poland            1 \n",
       "AGAINST                    Germany           49\n",
       "                           Poland            32\n",
       "                           United Kingdom    30\n",
       "                           Italy             27\n",
       "                           Netherlands       17\n",
       "                           Sweden            15\n",
       "                           Czech Republic    12\n",
       "                           Spain             12\n",
       "                           Austria           8 \n",
       "                           Belgium           7 \n",
       "                           Luxembourg        6 \n",
       "                           Romania           6 \n",
       "                           Portugal          5 \n",
       "                           Slovenia          5 \n",
       "                           Estonia           4 \n",
       "                                            .. \n",
       "FOR                        Netherlands       5 \n",
       "                           Ireland           4 \n",
       "                           Malta             4 \n",
       "                           Slovenia          3 \n",
       "                           Sweden            3 \n",
       "                           Czech Republic    2 \n",
       "                           Estonia           1 \n",
       "FOR - CORRECTED            Bulgaria          1 \n",
       "                           Finland           1 \n",
       "                           Latvia            1 \n",
       "                           Poland            1 \n",
       "NOT PRESENT                Greece            11\n",
       "                           United Kingdom    11\n",
       "                           Romania           10\n",
       "                           Poland            8 \n",
       "                           Hungary           7 \n",
       "                           Spain             7 \n",
       "                           France            6 \n",
       "                           Germany           6 \n",
       "                           Italy             6 \n",
       "                           Cyprus            5 \n",
       "                           Ireland           3 \n",
       "                           Lithuania         3 \n",
       "                           Austria           2 \n",
       "                           Czech Republic    2 \n",
       "                           Sweden            2 \n",
       "                           Croatia           1 \n",
       "                           Denmark           1 \n",
       "                           Netherlands       1 \n",
       "                           Portugal          1 \n",
       "Name: Country, Length: 103, dtype: int64"
      ]
     },
     "execution_count": 22,
     "metadata": {},
     "output_type": "execute_result"
    }
   ],
   "source": [
    "df.groupby('26 March 2019\\nFinal Vote')['Country'].value_counts()"
   ]
  },
  {
   "cell_type": "code",
   "execution_count": 23,
   "metadata": {},
   "outputs": [
    {
     "data": {
      "text/plain": [
       "26 March 2019\\nFinal Vote  Political Group\n",
       "ABSTAINED                  EPP                12 \n",
       "                           S&D                6  \n",
       "                           Greens/EFA         4  \n",
       "                           ALDE               3  \n",
       "                           ENF                3  \n",
       "                           GUE/NGL            3  \n",
       "                           ECR                2  \n",
       "                           EFDD               1  \n",
       "                           Non-attached       1  \n",
       "ABSTAINED - CORRECTED      Non-attached       1  \n",
       "AGAINST                    S&D                54 \n",
       "                           ECR                42 \n",
       "                           Greens/EFA         39 \n",
       "                           GUE/NGL            36 \n",
       "                           EFDD               28 \n",
       "                           ALDE               24 \n",
       "                           EPP                24 \n",
       "                           ENF                14 \n",
       "                           Non-attached       8  \n",
       "AGAINST - CORRECTED        S&D                7  \n",
       "                           EPP                4  \n",
       "                           ALDE               2  \n",
       "                           Non-attached       1  \n",
       "FOR                        EPP                149\n",
       "                           S&D                92 \n",
       "                           ALDE               35 \n",
       "                           ECR                23 \n",
       "                           ENF                15 \n",
       "                           EFDD               6  \n",
       "                           GUE/NGL            5  \n",
       "                           Non-attached       5  \n",
       "                           Greens/EFA         4  \n",
       "FOR - CORRECTED            EPP                4  \n",
       "NOT PRESENT                S&D                28 \n",
       "                           EPP                24 \n",
       "                           ECR                8  \n",
       "                           GUE/NGL            8  \n",
       "                           EFDD               6  \n",
       "                           Non-attached       6  \n",
       "                           Greens/EFA         5  \n",
       "                           ALDE               4  \n",
       "                           ENF                4  \n",
       "Name: Political Group, dtype: int64"
      ]
     },
     "execution_count": 23,
     "metadata": {},
     "output_type": "execute_result"
    }
   ],
   "source": [
    "df.groupby('26 March 2019\\nFinal Vote')['Political Group'].value_counts()"
   ]
  },
  {
   "cell_type": "code",
   "execution_count": 24,
   "metadata": {},
   "outputs": [
    {
     "data": {
      "text/plain": [
       "<matplotlib.axes._subplots.AxesSubplot at 0x114bcc4e0>"
      ]
     },
     "execution_count": 24,
     "metadata": {},
     "output_type": "execute_result"
    },
    {
     "data": {
      "image/png": "[encoded data removed]",
      "text/plain": [
       "<Figure size 432x288 with 1 Axes>"
      ]
     },
     "metadata": {},
     "output_type": "display_data"
    }
   ],
   "source": [
    "df.groupby('26 March 2019\\nFinal Vote')['Political Group'].value_counts().plot.barh()"
   ]
  },
  {
   "cell_type": "code",
   "execution_count": 27,
   "metadata": {},
   "outputs": [
    {
     "data": {
      "text/plain": [
       "26 March 2019\\nFinal Vote  Political Group\n",
       "ABSTAINED                  EPP                12 \n",
       "                           S&D                6  \n",
       "                           Greens/EFA         4  \n",
       "                           ALDE               3  \n",
       "                           ENF                3  \n",
       "                           GUE/NGL            3  \n",
       "                           ECR                2  \n",
       "                           EFDD               1  \n",
       "                           Non-attached       1  \n",
       "ABSTAINED - CORRECTED      Non-attached       1  \n",
       "AGAINST                    S&D                54 \n",
       "                           ECR                42 \n",
       "                           Greens/EFA         39 \n",
       "                           GUE/NGL            36 \n",
       "                           EFDD               28 \n",
       "                           ALDE               24 \n",
       "                           EPP                24 \n",
       "                           ENF                14 \n",
       "                           Non-attached       8  \n",
       "AGAINST - CORRECTED        S&D                7  \n",
       "                           EPP                4  \n",
       "                           ALDE               2  \n",
       "                           Non-attached       1  \n",
       "FOR                        EPP                149\n",
       "                           S&D                92 \n",
       "                           ALDE               35 \n",
       "                           ECR                23 \n",
       "                           ENF                15 \n",
       "                           EFDD               6  \n",
       "                           GUE/NGL            5  \n",
       "                           Non-attached       5  \n",
       "                           Greens/EFA         4  \n",
       "FOR - CORRECTED            EPP                4  \n",
       "NOT PRESENT                S&D                28 \n",
       "                           EPP                24 \n",
       "                           ECR                8  \n",
       "                           GUE/NGL            8  \n",
       "                           EFDD               6  \n",
       "                           Non-attached       6  \n",
       "                           Greens/EFA         5  \n",
       "                           ALDE               4  \n",
       "                           ENF                4  \n",
       "Name: Political Group, dtype: int64"
      ]
     },
     "execution_count": 27,
     "metadata": {},
     "output_type": "execute_result"
    }
   ],
   "source": [
    "df.groupby('26 March 2019\\nFinal Vote')['Political Group'].value_counts()"
   ]
  },
  {
   "cell_type": "code",
   "execution_count": 88,
   "metadata": {},
   "outputs": [
    {
     "data": {
      "text/plain": [
       "26 March 2019\\nFinal Vote  Political Group\n",
       "ABSTAINED                  EPP                12 \n",
       "AGAINST                    EPP                24 \n",
       "AGAINST - CORRECTED        EPP                4  \n",
       "FOR                        EPP                149\n",
       "FOR - CORRECTED            EPP                4  \n",
       "NOT PRESENT                EPP                24 \n",
       "Name: Political Group, dtype: int64"
      ]
     },
     "execution_count": 88,
     "metadata": {},
     "output_type": "execute_result"
    }
   ],
   "source": [
    "df[df['Political Group'] == 'EPP'].groupby('26 March 2019\\nFinal Vote')['Political Group'].value_counts()"
   ]
  },
  {
   "cell_type": "code",
   "execution_count": 91,
   "metadata": {},
   "outputs": [
    {
     "data": {
      "text/plain": [
       "26 March 2019\\nFinal Vote  Political Group\n",
       "ABSTAINED                  S&D                6 \n",
       "AGAINST                    S&D                54\n",
       "AGAINST - CORRECTED        S&D                7 \n",
       "FOR                        S&D                92\n",
       "NOT PRESENT                S&D                28\n",
       "Name: Political Group, dtype: int64"
      ]
     },
     "execution_count": 91,
     "metadata": {},
     "output_type": "execute_result"
    }
   ],
   "source": [
    "df[df['Political Group'] == 'S&D'].groupby('26 March 2019\\nFinal Vote')['Political Group'].value_counts()"
   ]
  },
  {
   "cell_type": "code",
   "execution_count": 92,
   "metadata": {},
   "outputs": [
    {
     "data": {
      "text/plain": [
       "[6, 54, 7, 92, 28]"
      ]
     },
     "execution_count": 92,
     "metadata": {},
     "output_type": "execute_result"
    }
   ],
   "source": [
    "#Fixing the error thrown by no S&D voting for - corrected\n",
    "df[df['Political Group'] == 'S&D'].groupby('26 March 2019\\nFinal Vote')['Political Group'].value_counts().tolist()\n",
    "\n"
   ]
  },
  {
   "cell_type": "code",
   "execution_count": 93,
   "metadata": {},
   "outputs": [],
   "source": [
    "sd_final_votes = [6, 54, 7, 92, 0, 28]"
   ]
  },
  {
   "cell_type": "code",
   "execution_count": 94,
   "metadata": {},
   "outputs": [],
   "source": [
    "epp_final_votes = df[df['Political Group'] == 'EPP'].groupby('26 March 2019\\nFinal Vote')['Political Group'].value_counts().tolist()\n"
   ]
  },
  {
   "cell_type": "code",
   "execution_count": 95,
   "metadata": {},
   "outputs": [],
   "source": [
    "index = ['ABSTAINED', 'AGAINST', 'AGAINST - CORRECTED', 'FOR', 'FOR - CORRECTED', 'NOT PRESENT']"
   ]
  },
  {
   "cell_type": "code",
   "execution_count": 97,
   "metadata": {},
   "outputs": [
    {
     "data": {
      "image/png": "[encoded data removed]",
      "text/plain": [
       "<Figure size 432x288 with 1 Axes>"
      ]
     },
     "metadata": {},
     "output_type": "display_data"
    }
   ],
   "source": [
    "df_vote = pd.DataFrame({'EPP': epp_final_votes, 'S&D': sd_final_votes}, index=index)\n",
    "ax = df_vote.plot.barh()"
   ]
  },
  {
   "cell_type": "code",
   "execution_count": 99,
   "metadata": {},
   "outputs": [
    {
     "data": {
      "text/plain": [
       "26 March 2019\\nFinal Vote  Political Group\n",
       "ABSTAINED                  Greens/EFA         4 \n",
       "AGAINST                    Greens/EFA         39\n",
       "FOR                        Greens/EFA         4 \n",
       "NOT PRESENT                Greens/EFA         5 \n",
       "Name: Political Group, dtype: int64"
      ]
     },
     "execution_count": 99,
     "metadata": {},
     "output_type": "execute_result"
    }
   ],
   "source": [
    "df[df['Political Group'] == 'Greens/EFA'].groupby('26 March 2019\\nFinal Vote')['Political Group'].value_counts()\n"
   ]
  },
  {
   "cell_type": "code",
   "execution_count": 100,
   "metadata": {},
   "outputs": [
    {
     "data": {
      "text/plain": [
       "[4, 39, 4, 5]"
      ]
     },
     "execution_count": 100,
     "metadata": {},
     "output_type": "execute_result"
    }
   ],
   "source": [
    "df[df['Political Group'] == 'Greens/EFA'].groupby('26 March 2019\\nFinal Vote')['Political Group'].value_counts().tolist()\n"
   ]
  },
  {
   "cell_type": "code",
   "execution_count": 101,
   "metadata": {},
   "outputs": [],
   "source": [
    "greens_final_vote = [4, 39, 0, 4, 0, 5]"
   ]
  },
  {
   "cell_type": "code",
   "execution_count": 102,
   "metadata": {},
   "outputs": [
    {
     "data": {
      "image/png": "[encoded data removed]",
      "text/plain": [
       "<Figure size 432x288 with 1 Axes>"
      ]
     },
     "metadata": {},
     "output_type": "display_data"
    }
   ],
   "source": [
    "df_vote = pd.DataFrame({'EPP': epp_final_votes, 'S&D': sd_final_votes, 'Greens': greens_final_vote}, index=index)\n",
    "ax = df_vote.plot.barh()"
   ]
  },
  {
   "cell_type": "code",
   "execution_count": 104,
   "metadata": {},
   "outputs": [
    {
     "data": {
      "text/plain": [
       "26 March 2019\\nFinal Vote  Political Group\n",
       "ABSTAINED                  ALDE               3 \n",
       "AGAINST                    ALDE               24\n",
       "AGAINST - CORRECTED        ALDE               2 \n",
       "FOR                        ALDE               35\n",
       "NOT PRESENT                ALDE               4 \n",
       "Name: Political Group, dtype: int64"
      ]
     },
     "execution_count": 104,
     "metadata": {},
     "output_type": "execute_result"
    }
   ],
   "source": [
    "df[df['Political Group'] == 'ALDE'].groupby('26 March 2019\\nFinal Vote')['Political Group'].value_counts()\n"
   ]
  },
  {
   "cell_type": "code",
   "execution_count": 106,
   "metadata": {},
   "outputs": [
    {
     "data": {
      "text/plain": [
       "[3, 24, 2, 35, 4]"
      ]
     },
     "execution_count": 106,
     "metadata": {},
     "output_type": "execute_result"
    }
   ],
   "source": [
    "df[df['Political Group'] == 'ALDE'].groupby('26 March 2019\\nFinal Vote')['Political Group'].value_counts().tolist()\n"
   ]
  },
  {
   "cell_type": "code",
   "execution_count": 107,
   "metadata": {},
   "outputs": [],
   "source": [
    "alde_final_vote = [3, 24, 2, 35, 0, 4]"
   ]
  },
  {
   "cell_type": "code",
   "execution_count": 108,
   "metadata": {},
   "outputs": [
    {
     "data": {
      "image/png": "[encoded data removed]",
      "text/plain": [
       "<Figure size 432x288 with 1 Axes>"
      ]
     },
     "metadata": {},
     "output_type": "display_data"
    }
   ],
   "source": [
    "df_vote = pd.DataFrame({'EPP': epp_final_votes, 'S&D': sd_final_votes, 'Greens': greens_final_vote, 'ALDE': alde_final_vote}, index=index)\n",
    "ax = df_vote.plot.barh()"
   ]
  },
  {
   "cell_type": "code",
   "execution_count": 110,
   "metadata": {},
   "outputs": [
    {
     "data": {
      "text/plain": [
       "26 March 2019\\nFinal Vote  Political Group\n",
       "ABSTAINED                  ECR                2 \n",
       "AGAINST                    ECR                42\n",
       "FOR                        ECR                23\n",
       "NOT PRESENT                ECR                8 \n",
       "Name: Political Group, dtype: int64"
      ]
     },
     "execution_count": 110,
     "metadata": {},
     "output_type": "execute_result"
    }
   ],
   "source": [
    "df[df['Political Group'] == 'ECR'].groupby('26 March 2019\\nFinal Vote')['Political Group'].value_counts()\n"
   ]
  },
  {
   "cell_type": "code",
   "execution_count": 111,
   "metadata": {},
   "outputs": [
    {
     "data": {
      "text/plain": [
       "[2, 42, 23, 8]"
      ]
     },
     "execution_count": 111,
     "metadata": {},
     "output_type": "execute_result"
    }
   ],
   "source": [
    "df[df['Political Group'] == 'ECR'].groupby('26 March 2019\\nFinal Vote')['Political Group'].value_counts().tolist()\n"
   ]
  },
  {
   "cell_type": "code",
   "execution_count": 112,
   "metadata": {},
   "outputs": [],
   "source": [
    "ecr_final_vote = [2, 42, 0, 23, 0, 8]"
   ]
  },
  {
   "cell_type": "code",
   "execution_count": 113,
   "metadata": {},
   "outputs": [
    {
     "data": {
      "image/png": "[encoded data removed]",
      "text/plain": [
       "<Figure size 432x288 with 1 Axes>"
      ]
     },
     "metadata": {},
     "output_type": "display_data"
    }
   ],
   "source": [
    "df_vote = pd.DataFrame({'EPP': epp_final_votes, 'S&D': sd_final_votes, 'Greens': greens_final_vote, 'ALDE': alde_final_vote, 'ECR': ecr_final_vote}, index=index)\n",
    "ax = df_vote.plot.barh()"
   ]
  },
  {
   "cell_type": "code",
   "execution_count": 114,
   "metadata": {},
   "outputs": [
    {
     "data": {
      "text/plain": [
       "26 March 2019\\nFinal Vote  Political Group\n",
       "ABSTAINED                  GUE/NGL            3 \n",
       "AGAINST                    GUE/NGL            36\n",
       "FOR                        GUE/NGL            5 \n",
       "NOT PRESENT                GUE/NGL            8 \n",
       "Name: Political Group, dtype: int64"
      ]
     },
     "execution_count": 114,
     "metadata": {},
     "output_type": "execute_result"
    }
   ],
   "source": [
    "df[df['Political Group'] == 'GUE/NGL'].groupby('26 March 2019\\nFinal Vote')['Political Group'].value_counts()\n"
   ]
  },
  {
   "cell_type": "code",
   "execution_count": 115,
   "metadata": {},
   "outputs": [
    {
     "data": {
      "text/plain": [
       "[3, 36, 5, 8]"
      ]
     },
     "execution_count": 115,
     "metadata": {},
     "output_type": "execute_result"
    }
   ],
   "source": [
    "df[df['Political Group'] == 'GUE/NGL'].groupby('26 March 2019\\nFinal Vote')['Political Group'].value_counts().tolist()\n"
   ]
  },
  {
   "cell_type": "code",
   "execution_count": 116,
   "metadata": {},
   "outputs": [],
   "source": [
    "guengl_final_vote = [3, 36, 0, 5, 0, 8]"
   ]
  },
  {
   "cell_type": "code",
   "execution_count": 121,
   "metadata": {},
   "outputs": [
    {
     "data": {
      "image/png": "[encoded data removed]",
      "text/plain": [
       "<Figure size 432x288 with 1 Axes>"
      ]
     },
     "metadata": {},
     "output_type": "display_data"
    }
   ],
   "source": [
    "df_vote = pd.DataFrame({\n",
    "    'EPP': epp_final_votes, \n",
    "    'S&D': sd_final_votes, \n",
    "    'Greens': greens_final_vote, \n",
    "    'ALDE': alde_final_vote, \n",
    "    'ECR': ecr_final_vote,\n",
    "    'GUE/NGL': guengl_final_vote}, index=index)\n",
    "ax = df_vote.plot.barh()"
   ]
  },
  {
   "cell_type": "code",
   "execution_count": 122,
   "metadata": {},
   "outputs": [
    {
     "data": {
      "text/plain": [
       "26 March 2019\\nFinal Vote  Political Group\n",
       "ABSTAINED                  EFDD               1 \n",
       "AGAINST                    EFDD               28\n",
       "FOR                        EFDD               6 \n",
       "NOT PRESENT                EFDD               6 \n",
       "Name: Political Group, dtype: int64"
      ]
     },
     "execution_count": 122,
     "metadata": {},
     "output_type": "execute_result"
    }
   ],
   "source": [
    "df[df['Political Group'] == 'EFDD'].groupby('26 March 2019\\nFinal Vote')['Political Group'].value_counts()\n"
   ]
  },
  {
   "cell_type": "code",
   "execution_count": 123,
   "metadata": {},
   "outputs": [
    {
     "data": {
      "text/plain": [
       "[1, 28, 6, 6]"
      ]
     },
     "execution_count": 123,
     "metadata": {},
     "output_type": "execute_result"
    }
   ],
   "source": [
    "df[df['Political Group'] == 'EFDD'].groupby('26 March 2019\\nFinal Vote')['Political Group'].value_counts().tolist()\n"
   ]
  },
  {
   "cell_type": "code",
   "execution_count": 124,
   "metadata": {},
   "outputs": [],
   "source": [
    "efdd_final_vote = [1, 28, 0, 6, 0, 6]"
   ]
  },
  {
   "cell_type": "code",
   "execution_count": 126,
   "metadata": {},
   "outputs": [
    {
     "data": {
      "image/png": "[encoded data removed]",
      "text/plain": [
       "<Figure size 432x288 with 1 Axes>"
      ]
     },
     "metadata": {},
     "output_type": "display_data"
    }
   ],
   "source": [
    "df_vote = pd.DataFrame({\n",
    "    'EPP': epp_final_votes, \n",
    "    'S&D': sd_final_votes, \n",
    "    'Greens': greens_final_vote, \n",
    "    'ALDE': alde_final_vote, \n",
    "    'ECR': ecr_final_vote,\n",
    "    'GUE/NGL': guengl_final_vote,\n",
    "    'EFDD': efdd_final_vote}, index=index)\n",
    "ax = df_vote.plot.barh()"
   ]
  },
  {
   "cell_type": "code",
   "execution_count": 128,
   "metadata": {},
   "outputs": [
    {
     "data": {
      "text/plain": [
       "26 March 2019\\nFinal Vote  Political Group\n",
       "ABSTAINED                  ENF                3 \n",
       "AGAINST                    ENF                14\n",
       "FOR                        ENF                15\n",
       "NOT PRESENT                ENF                4 \n",
       "Name: Political Group, dtype: int64"
      ]
     },
     "execution_count": 128,
     "metadata": {},
     "output_type": "execute_result"
    }
   ],
   "source": [
    "df[df['Political Group'] == 'ENF'].groupby('26 March 2019\\nFinal Vote')['Political Group'].value_counts()\n"
   ]
  },
  {
   "cell_type": "code",
   "execution_count": 129,
   "metadata": {},
   "outputs": [
    {
     "data": {
      "text/plain": [
       "[3, 14, 15, 4]"
      ]
     },
     "execution_count": 129,
     "metadata": {},
     "output_type": "execute_result"
    }
   ],
   "source": [
    "df[df['Political Group'] == 'ENF'].groupby('26 March 2019\\nFinal Vote')['Political Group'].value_counts().tolist()"
   ]
  },
  {
   "cell_type": "code",
   "execution_count": 130,
   "metadata": {},
   "outputs": [],
   "source": [
    "enf_final_vote = [3, 14, 0, 15, 0, 4]"
   ]
  },
  {
   "cell_type": "code",
   "execution_count": 131,
   "metadata": {},
   "outputs": [
    {
     "data": {
      "text/plain": [
       "26 March 2019\\nFinal Vote  Political Group\n",
       "ABSTAINED                  Non-attached       1\n",
       "ABSTAINED - CORRECTED      Non-attached       1\n",
       "AGAINST                    Non-attached       8\n",
       "AGAINST - CORRECTED        Non-attached       1\n",
       "FOR                        Non-attached       5\n",
       "NOT PRESENT                Non-attached       6\n",
       "Name: Political Group, dtype: int64"
      ]
     },
     "execution_count": 131,
     "metadata": {},
     "output_type": "execute_result"
    }
   ],
   "source": [
    "df[df['Political Group'] == 'Non-attached'].groupby('26 March 2019\\nFinal Vote')['Political Group'].value_counts()\n"
   ]
  },
  {
   "cell_type": "code",
   "execution_count": 133,
   "metadata": {},
   "outputs": [],
   "source": [
    "nonattached_final_vote = df[df['Political Group'] == 'Non-attached'].groupby('26 March 2019\\nFinal Vote')['Political Group'].value_counts().tolist()\n"
   ]
  },
  {
   "cell_type": "code",
   "execution_count": 134,
   "metadata": {},
   "outputs": [
    {
     "data": {
      "image/png": "[encoded data removed]",
      "text/plain": [
       "<Figure size 432x288 with 1 Axes>"
      ]
     },
     "metadata": {},
     "output_type": "display_data"
    }
   ],
   "source": [
    "df_vote = pd.DataFrame({\n",
    "    'EPP': epp_final_votes, \n",
    "    'S&D': sd_final_votes, \n",
    "    'Greens': greens_final_vote, \n",
    "    'ALDE': alde_final_vote, \n",
    "    'ECR': ecr_final_vote,\n",
    "    'GUE/NGL': guengl_final_vote,\n",
    "    'EFDD': efdd_final_vote,\n",
    "    'ENF': enf_final_vote,\n",
    "    'Non-attached': nonattached_final_vote}, index=index)\n",
    "ax = df_vote.plot.barh()"
   ]
  },
  {
   "cell_type": "code",
   "execution_count": null,
   "metadata": {},
   "outputs": [],
   "source": []
  }
 ],
 "metadata": {
  "kernelspec": {
   "display_name": "Python 3",
   "language": "python",
   "name": "python3"
  },
  "language_info": {
   "codemirror_mode": {
    "name": "ipython",
    "version": 3
   },
   "file_extension": ".py",
   "mimetype": "text/x-python",
   "name": "python",
   "nbconvert_exporter": "python",
   "pygments_lexer": "ipython3",
   "version": "3.6.4"
  }
 },
 "nbformat": 4,
 "nbformat_minor": 2
}
