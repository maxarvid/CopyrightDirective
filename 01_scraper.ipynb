{
 "cells": [
  {
   "cell_type": "code",
   "execution_count": 1,
   "metadata": {},
   "outputs": [],
   "source": [
    "import pandas as pd\n",
    "from bs4 import BeautifulSoup\n",
    "import requests\n",
    "\n",
    "%matplotlib inline\n",
    "pd.set_option('max_colwidth', -1)"
   ]
  },
  {
   "cell_type": "markdown",
   "metadata": {},
   "source": [
    "Randomize the headers"
   ]
  },
  {
   "cell_type": "code",
   "execution_count": 3,
   "metadata": {},
   "outputs": [],
   "source": [
    "from user_agent import generate_user_agent\n",
    "headers = {'User-Agent': generate_user_agent(device_type=\"desktop\", os=('mac', 'linux'))}"
   ]
  },
  {
   "cell_type": "markdown",
   "metadata": {},
   "source": []
  },
  {
   "cell_type": "code",
   "execution_count": 4,
   "metadata": {},
   "outputs": [],
   "source": [
    "url = 'https://saveyourinternet.eu/'\n",
    "\n",
    "raw_html = requests.get(url, headers=headers)\n",
    "soup_doc = BeautifulSoup(raw_html.content, 'html.parser')"
   ]
  },
  {
   "cell_type": "markdown",
   "metadata": {},
   "source": [
    "Create a list of the html for each Member State, conveniently coded as table rows ('tr' html tags). Drop the first three rows as these entries are the overall outcome."
   ]
  },
  {
   "cell_type": "code",
   "execution_count": 80,
   "metadata": {},
   "outputs": [
    {
     "data": {
      "text/plain": [
       "28"
      ]
     },
     "execution_count": 80,
     "metadata": {},
     "output_type": "execute_result"
    }
   ],
   "source": [
    "member_states_raw = soup_doc.findAll('tr')[3:]\n",
    "len(member_states_raw)"
   ]
  },
  {
   "cell_type": "markdown",
   "metadata": {},
   "source": [
    "Number of entries checks out, let's create our database now"
   ]
  },
  {
   "cell_type": "code",
   "execution_count": 105,
   "metadata": {},
   "outputs": [],
   "source": [
    "council_vote_list = []\n",
    "\n",
    "for each in member_states_raw:\n",
    "    country_dict = {}\n",
    "    country_dict['country'] = each.strong.string\n",
    "    # print(each.strong.string)\n",
    "    country_dict['percent_eu_population'] = float(each.em.string[:-18]) #converting to floats now for easier cleaning\n",
    "    \n",
    "    #print(float(each.em.string[:-18])) #converting to floats now for easier cleaning\n",
    "    #print(each.span['class'][-1])\n",
    "    \n",
    "    \n",
    "    if each.span['class'][-1] == 'fa-arrow-circle-up':\n",
    "        country_dict['copyright_directive_vote'] = 1\n",
    "        #print('supported the directive')\n",
    "    elif each.span['class'][-1] == 'fa-circle-thin':\n",
    "        country_dict['copyright_directive_vote'] = 0\n",
    "        # print('abstained')\n",
    "    elif each.span['class'][-1] == 'fa-arrow-circle-down':\n",
    "        country_dict['copyright_directive_vote'] = -1\n",
    "        #print('voted against')\n",
    "    council_vote_list.append(country_dict)\n",
    "\n",
    "        \n",
    "        "
   ]
  },
  {
   "cell_type": "code",
   "execution_count": 106,
   "metadata": {},
   "outputs": [
    {
     "data": {
      "text/plain": [
       "[{'country': 'Austria',\n",
       "  'percent_eu_population': 1.71,\n",
       "  'copyright_directive_vote': 1},\n",
       " {'country': 'Belgium',\n",
       "  'percent_eu_population': 2.22,\n",
       "  'copyright_directive_vote': 0},\n",
       " {'country': 'Bulgaria',\n",
       "  'percent_eu_population': 1.37,\n",
       "  'copyright_directive_vote': 1},\n",
       " {'country': 'Croatia',\n",
       "  'percent_eu_population': 0.8,\n",
       "  'copyright_directive_vote': 1},\n",
       " {'country': 'Cyprus',\n",
       "  'percent_eu_population': 0.17,\n",
       "  'copyright_directive_vote': 1},\n",
       " {'country': 'Czech Republic',\n",
       "  'percent_eu_population': 2.04,\n",
       "  'copyright_directive_vote': 1},\n",
       " {'country': 'Denmark',\n",
       "  'percent_eu_population': 1.13,\n",
       "  'copyright_directive_vote': 1},\n",
       " {'country': 'Estonia',\n",
       "  'percent_eu_population': 0.26,\n",
       "  'copyright_directive_vote': 0},\n",
       " {'country': 'Finland',\n",
       "  'percent_eu_population': 1.07,\n",
       "  'copyright_directive_vote': -1},\n",
       " {'country': 'France',\n",
       "  'percent_eu_population': 13.1,\n",
       "  'copyright_directive_vote': 1},\n",
       " {'country': 'Germany',\n",
       "  'percent_eu_population': 16.12,\n",
       "  'copyright_directive_vote': 1},\n",
       " {'country': 'Greece',\n",
       "  'percent_eu_population': 2.09,\n",
       "  'copyright_directive_vote': 1},\n",
       " {'country': 'Hungary',\n",
       "  'percent_eu_population': 1.91,\n",
       "  'copyright_directive_vote': 1},\n",
       " {'country': 'Ireland',\n",
       "  'percent_eu_population': 0.94,\n",
       "  'copyright_directive_vote': 1},\n",
       " {'country': 'Italy',\n",
       "  'percent_eu_population': 11.92,\n",
       "  'copyright_directive_vote': -1},\n",
       " {'country': 'Latvia',\n",
       "  'percent_eu_population': 0.38,\n",
       "  'copyright_directive_vote': 1},\n",
       " {'country': 'Lithuania',\n",
       "  'percent_eu_population': 0.55,\n",
       "  'copyright_directive_vote': 1},\n",
       " {'country': 'Luxembourg',\n",
       "  'percent_eu_population': 0.12,\n",
       "  'copyright_directive_vote': -1},\n",
       " {'country': 'Malta',\n",
       "  'percent_eu_population': 0.09,\n",
       "  'copyright_directive_vote': 1},\n",
       " {'country': 'Netherlands',\n",
       "  'percent_eu_population': 7.4,\n",
       "  'copyright_directive_vote': -1},\n",
       " {'country': 'Poland',\n",
       "  'percent_eu_population': 1.07,\n",
       "  'copyright_directive_vote': -1},\n",
       " {'country': 'Portugal',\n",
       "  'percent_eu_population': 2.0,\n",
       "  'copyright_directive_vote': 1},\n",
       " {'country': 'Romania',\n",
       "  'percent_eu_population': 3.8,\n",
       "  'copyright_directive_vote': 1},\n",
       " {'country': 'Slovakia',\n",
       "  'percent_eu_population': 1.06,\n",
       "  'copyright_directive_vote': 1},\n",
       " {'country': 'Slovenia',\n",
       "  'percent_eu_population': 0.4,\n",
       "  'copyright_directive_vote': 0},\n",
       " {'country': 'Spain',\n",
       "  'percent_eu_population': 9.09,\n",
       "  'copyright_directive_vote': 1},\n",
       " {'country': 'Sweden',\n",
       "  'percent_eu_population': 1.98,\n",
       "  'copyright_directive_vote': -1},\n",
       " {'country': 'UK',\n",
       "  'percent_eu_population': 12.9,\n",
       "  'copyright_directive_vote': 1}]"
      ]
     },
     "execution_count": 106,
     "metadata": {},
     "output_type": "execute_result"
    }
   ],
   "source": [
    "council_vote_list"
   ]
  },
  {
   "cell_type": "code",
   "execution_count": null,
   "metadata": {},
   "outputs": [],
   "source": []
  }
 ],
 "metadata": {
  "kernelspec": {
   "display_name": "Python 3",
   "language": "python",
   "name": "python3"
  },
  "language_info": {
   "codemirror_mode": {
    "name": "ipython",
    "version": 3
   },
   "file_extension": ".py",
   "mimetype": "text/x-python",
   "name": "python",
   "nbconvert_exporter": "python",
   "pygments_lexer": "ipython3",
   "version": "3.6.4"
  }
 },
 "nbformat": 4,
 "nbformat_minor": 2
}
